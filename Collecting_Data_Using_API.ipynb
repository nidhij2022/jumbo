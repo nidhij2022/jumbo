{
 "cells": [
  {
   "cell_type": "code",
   "execution_count": 5,
   "metadata": {},
   "outputs": [],
   "source": [
    "import requests\n",
    "baseurl = \"https://cf-courses-data.s3.us.cloud-object-storage.appdomain.cloud/IBM-DA0321EN-SkillsNetwork/labs/module%201/datasets/githubposting.json\"\n"
   ]
  },
  {
   "cell_type": "markdown",
   "metadata": {},
   "source": [
    "Write a function to get the number of jobs for the given technology"
   ]
  },
  {
   "cell_type": "code",
   "execution_count": 6,
   "metadata": {},
   "outputs": [],
   "source": [
    "def get_number_of_jobs(technology):\n",
    "    number_of_jobs= 0\n",
    "    response = requests.get(baseurl)\n",
    "    if response.ok:             # if all is well() no errors, no network timeouts)\n",
    "        data = response.json()\n",
    "        tecnologias = data.get('technology')\n",
    "        for item in tecnologias:\n",
    "            if tecnologias.get(item).lower()==technology.lower():\n",
    "                number_of_jobs += int(data.get('number of job posting').get(item))   \n",
    "                \n",
    "    return technology,number_of_jobs"
   ]
  },
  {
   "cell_type": "markdown",
   "metadata": {},
   "source": [
    "Call the function for Python and check if it is working"
   ]
  },
  {
   "cell_type": "code",
   "execution_count": 7,
   "metadata": {},
   "outputs": [
    {
     "name": "stdout",
     "output_type": "stream",
     "text": [
      "('python', 51)\n"
     ]
    }
   ],
   "source": [
    "print(get_number_of_jobs('python'))"
   ]
  },
  {
   "cell_type": "markdown",
   "metadata": {},
   "source": [
    "Call the API for all the given technologies above and write the results in an excel spreadsheets\n",
    "\n",
    "Create a python list of all technologies for which you need to find the number of job postings\n"
   ]
  },
  {
   "cell_type": "code",
   "execution_count": 8,
   "metadata": {},
   "outputs": [
    {
     "data": {
      "text/plain": [
       "['C',\n",
       " 'C%23',\n",
       " 'C%2B%2B',\n",
       " 'Java',\n",
       " 'JavaScript',\n",
       " 'Python',\n",
       " 'Scala',\n",
       " 'Oracle',\n",
       " 'SQL Server',\n",
       " 'MySQL Server',\n",
       " 'PostgreSQL',\n",
       " 'MongoDB']"
      ]
     },
     "execution_count": 8,
     "metadata": {},
     "output_type": "execute_result"
    }
   ],
   "source": [
    "technologies = ['C','C%23','C%2B%2B','Java','JavaScript','Python','Scala','Oracle','SQL Server','MySQL Server','PostgreSQL','MongoDB']\n",
    "technologies"
   ]
  },
  {
   "cell_type": "markdown",
   "metadata": {},
   "source": [
    "Import libraries to create excel spreadsheet"
   ]
  },
  {
   "cell_type": "code",
   "execution_count": 9,
   "metadata": {},
   "outputs": [
    {
     "name": "stdout",
     "output_type": "stream",
     "text": [
      "Collecting openpyxl\n",
      "  Downloading openpyxl-3.0.10-py2.py3-none-any.whl (242 kB)\n",
      "     -------------------------------------- 242.1/242.1 kB 7.2 MB/s eta 0:00:00\n",
      "Collecting et-xmlfile\n",
      "  Downloading et_xmlfile-1.1.0-py3-none-any.whl (4.7 kB)\n",
      "Installing collected packages: et-xmlfile, openpyxl\n",
      "Successfully installed et-xmlfile-1.1.0 openpyxl-3.0.10\n",
      "\n",
      "[notice] A new release of pip available: 22.1.2 -> 22.2.2\n",
      "[notice] To update, run: python.exe -m pip install --upgrade pip\n"
     ]
    }
   ],
   "source": [
    "!pip3 install openpyxl\n",
    "from openpyxl import Workbook"
   ]
  },
  {
   "cell_type": "markdown",
   "metadata": {},
   "source": [
    "Create a workbook and select the active worksheet"
   ]
  },
  {
   "cell_type": "code",
   "execution_count": 10,
   "metadata": {},
   "outputs": [
    {
     "data": {
      "text/plain": [
       "<Worksheet \"Sheet\">"
      ]
     },
     "execution_count": 10,
     "metadata": {},
     "output_type": "execute_result"
    }
   ],
   "source": [
    "wb=Workbook() \n",
    "ws=wb.active\n",
    "ws"
   ]
  },
  {
   "cell_type": "markdown",
   "metadata": {},
   "source": [
    "Find the number of job postings for each of the technology in the above list.\n",
    "Write the technology name and the number of jobs postings into the excel spreadsheet"
   ]
  },
  {
   "cell_type": "code",
   "execution_count": 11,
   "metadata": {},
   "outputs": [
    {
     "data": {
      "text/plain": [
       "[None, None, None, None, None, None, None, None, None, None, None, None]"
      ]
     },
     "execution_count": 11,
     "metadata": {},
     "output_type": "execute_result"
    }
   ],
   "source": [
    "tech_list = list()\n",
    "for language in technologies:\n",
    "    jobs = get_number_of_jobs(language)\n",
    "    tech_list.append(jobs)\n",
    "    \n",
    "ws.append(['Language', 'Job Postings'])\n",
    "[ws.append(i) for i in tech_list]"
   ]
  },
  {
   "cell_type": "markdown",
   "metadata": {},
   "source": [
    "Save into an excel spreadsheet named 'github-job-postings.xlsx'"
   ]
  },
  {
   "cell_type": "code",
   "execution_count": 12,
   "metadata": {},
   "outputs": [],
   "source": [
    "wb.save(\"github-job-postings.xlsx\")"
   ]
  },
  {
   "cell_type": "code",
   "execution_count": 13,
   "metadata": {},
   "outputs": [
    {
     "name": "stdout",
     "output_type": "stream",
     "text": [
      "c:\\Users\\jermi\\OneDrive\\Desktop\\JDA\\Coursera\\Presentation week5\\github-job-postings.xlsx\n",
      "        Language  Job Postings\n",
      "0              C           184\n",
      "1           C%23             0\n",
      "2        C%2B%2B             0\n",
      "3           Java            92\n",
      "4     JavaScript            65\n",
      "5         Python            51\n",
      "6          Scala            47\n",
      "7         Oracle             8\n",
      "8     SQL Server            16\n",
      "9   MySQL Server             7\n",
      "10    PostgreSQL            17\n",
      "11       MongoDB            18\n"
     ]
    }
   ],
   "source": [
    "import pandas as pd\n",
    "import os\n",
    "print (os.path.abspath(\"github-job-postings.xlsx\"))\n",
    "filename=\"path/github-job-postings.xlsx\"\n",
    "df=pd.read_excel(\"github-job-postings.xlsx\")\n",
    "print(df)"
   ]
  }
 ],
 "metadata": {
  "kernelspec": {
   "display_name": "Python 3.10.5 64-bit",
   "language": "python",
   "name": "python3"
  },
  "language_info": {
   "codemirror_mode": {
    "name": "ipython",
    "version": 3
   },
   "file_extension": ".py",
   "mimetype": "text/x-python",
   "name": "python",
   "nbconvert_exporter": "python",
   "pygments_lexer": "ipython3",
   "version": "3.10.5"
  },
  "orig_nbformat": 4,
  "vscode": {
   "interpreter": {
    "hash": "e5d22b7cfb45182d90ee2c726777576676bf6f008dbc23016da0942bf5baa144"
   }
  }
 },
 "nbformat": 4,
 "nbformat_minor": 2
}
